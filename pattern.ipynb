{
 "cells": [
  {
   "attachments": {},
   "cell_type": "markdown",
   "metadata": {},
   "source": [
    "# into my eyes"
   ]
  },
  {
   "cell_type": "code",
   "execution_count": 1,
   "metadata": {},
   "outputs": [],
   "source": [
    "from collections import Counter, defaultdict\n",
    "from io import StringIO\n",
    "from matplotlib import pyplot as plt\n",
    "from pathlib import Path\n",
    "from tqdm import tqdm\n",
    "import json\n",
    "import matplotlib.pyplot as plt\n",
    "import numpy as np\n",
    "import pandas as pd\n",
    "import pickle\n",
    "import re\n",
    "import seaborn as sns\n",
    "import openpyxl\n",
    "from captum.attr import visualization\n",
    "from tqdm import tqdm\n"
   ]
  },
  {
   "cell_type": "code",
   "execution_count": 2,
   "metadata": {},
   "outputs": [],
   "source": [
    "from erisk import metrics"
   ]
  },
  {
   "cell_type": "code",
   "execution_count": 3,
   "metadata": {},
   "outputs": [],
   "source": [
    "def rescale(v, method):\n",
    "    a = np.array(v)\n",
    "    match method:\n",
    "        case \"prob\":\n",
    "            a = (a - a.min()) / (a.max() - a.min())\n",
    "        case \"softmax\":\n",
    "            a = np.exp(a) / sum(np.exp(a))\n",
    "        case \"std\":\n",
    "            a = (a - a.mean()) / (a.std())\n",
    "        case _:\n",
    "            print(f'\"{rescale}\" is ignored because is not a supported rescale method')\n",
    "    return a\n",
    "\n",
    "def md_rescale(A, method):\n",
    "    return np.array([rescale(a, method) for a in A])"
   ]
  },
  {
   "cell_type": "code",
   "execution_count": 4,
   "metadata": {},
   "outputs": [],
   "source": [
    "def plot_vdr(tokens_list: list[list], scores_list: list[list]):\n",
    "    vis_data_records = list()\n",
    "    for tokens, scores in zip(tokens_list, scores_list):\n",
    "        vdr = visualization.VisualizationDataRecord(\n",
    "            pred_prob=0.68,  # (Predicted Label)\n",
    "            pred_class=\"depress\",  # Predicted Label\n",
    "            word_attributions=a,\n",
    "            true_class=\"depress\",  # True Label, ground-truth label of the input\n",
    "            attr_class=\"*\",  # Attribution Label, the input\n",
    "            attr_score=a.sum(),  # Attribution Score, the sum of IG accross the whole tokens\n",
    "            raw_input_ids=tokens,  # the list of tokens\n",
    "            convergence_score=0,  # the difference between approximated and true integrated gradients\n",
    "        )\n",
    "        vis_data_records.append(vdr)\n",
    "    visualization.visualize_text(vis_data_records)\n"
   ]
  },
  {
   "attachments": {},
   "cell_type": "markdown",
   "metadata": {},
   "source": [
    "## datasets"
   ]
  },
  {
   "attachments": {},
   "cell_type": "markdown",
   "metadata": {
    "id": "CBlyApTTIsOs"
   },
   "source": [
    "Loading and mergin dataset"
   ]
  },
  {
   "cell_type": "code",
   "execution_count": 5,
   "metadata": {
    "id": "EfM4wVwjIsOt"
   },
   "outputs": [],
   "source": [
    "data_text = \"\"\n",
    "\n",
    "for filename in sorted([\"ds\", \"ts_hs\", \"ts_ht\"]):\n",
    "    with open(\n",
    "        Path(\"datasets\", \"task_0\", f\"{filename}.tsv\"), \"rt\", encoding=\"utf8\"\n",
    "    ) as f:\n",
    "        data_text += f.read()\n",
    "\n",
    "df = pd.read_csv(StringIO(data_text), sep=\"\\t\")\n",
    "df = df.drop_duplicates().reset_index(names=\"old_idx\").reset_index(names=\"new_idx\")"
   ]
  },
  {
   "attachments": {},
   "cell_type": "markdown",
   "metadata": {
    "id": "twIV12teIsOu"
   },
   "source": [
    "splitting the dataset in training and testing (following previous works)"
   ]
  },
  {
   "cell_type": "code",
   "execution_count": 6,
   "metadata": {
    "id": "ZU5cJFYfIsOv"
   },
   "outputs": [],
   "source": [
    "# lookup = df.set_index(\"old_idx\")[\"new_idx\"]\n",
    "# pth = Path(\"datasets\", \"task_0\", \"train_test_splitting.json\")\n",
    "# idx = json.load(open(pth, \"rt\"))\n",
    "# idx = {k: [lookup[i] for i in lst if i in lookup] for k, lst in idx.items()}"
   ]
  },
  {
   "cell_type": "code",
   "execution_count": 7,
   "metadata": {
    "id": "26nG-z-FIsOw"
   },
   "outputs": [],
   "source": [
    "# x, y = df[\"raw_text\"], df[\"label\"]\n",
    "# x_train, x_test = x.loc[idx[\"train\"]], x.loc[idx[\"test\"]]\n",
    "# y_train, y_test = y.loc[idx[\"train\"]].astype(int), y.loc[idx[\"test\"]].astype(int)"
   ]
  },
  {
   "attachments": {},
   "cell_type": "markdown",
   "metadata": {},
   "source": [
    "loading psycologist highlights"
   ]
  },
  {
   "cell_type": "code",
   "execution_count": 8,
   "metadata": {},
   "outputs": [],
   "source": [
    "wb = openpyxl.load_workbook('datasets/task_0/Testset.xlsx')\n",
    "sheet = wb.active"
   ]
  },
  {
   "cell_type": "code",
   "execution_count": 9,
   "metadata": {},
   "outputs": [],
   "source": [
    "yellow, no_highlight = list(), list()"
   ]
  },
  {
   "cell_type": "code",
   "execution_count": 10,
   "metadata": {},
   "outputs": [],
   "source": [
    "for row in range(2, 1105):\n",
    "    uid = sheet[f\"A{row}\"].value\n",
    "    text = sheet[f\"B{row}\"].value\n",
    "    pattern = sheet[f\"C{row}\"].value\n",
    "    if pattern is not None and pattern.strip():\n",
    "        yellow.append((uid, text, pattern))\n",
    "    else:\n",
    "        no_highlight.append((uid, text))"
   ]
  },
  {
   "cell_type": "code",
   "execution_count": 11,
   "metadata": {},
   "outputs": [],
   "source": [
    "df_yellow = pd.DataFrame(yellow, columns=[\"excel_idx\", \"text\", \"pattern\"])\n",
    "df_val = pd.merge(df, df_yellow, left_on=\"raw_text\", right_on=\"text\")\n",
    "df = df.loc[~df.new_idx.isin(df_val.new_idx)] # remove val"
   ]
  },
  {
   "cell_type": "code",
   "execution_count": 12,
   "metadata": {},
   "outputs": [],
   "source": [
    "X, y = df[\"pp_text\"], df.label.astype(int)"
   ]
  },
  {
   "attachments": {},
   "cell_type": "markdown",
   "metadata": {},
   "source": [
    "pattern borders"
   ]
  },
  {
   "cell_type": "code",
   "execution_count": 13,
   "metadata": {},
   "outputs": [],
   "source": [
    "import re\n",
    "resp = r\"\\, |\\. |\\; |\\: |\\! |\\? |\\.|  | \\<|\\> |I \""
   ]
  },
  {
   "cell_type": "code",
   "execution_count": 14,
   "metadata": {},
   "outputs": [],
   "source": [
    "pattern_boundaries = defaultdict(list)\n",
    "for i, row in df_yellow.iterrows():\n",
    "    text_bites = [\n",
    "        v.strip().strip() for v in re.split(resp, row[\"pattern\"]) if v.strip().strip()\n",
    "    ]\n",
    "    for bit in text_bites:\n",
    "        istart = row[\"text\"].lower().find(bit.lower())\n",
    "        if istart != -1:\n",
    "            istop = istart + len(bit)\n",
    "            pattern_boundaries[row.excel_idx].append((istart, istop))\n",
    "        # else:\n",
    "        #     print(bit)\n",
    "        #     print(row[\"text\"])\n"
   ]
  },
  {
   "cell_type": "code",
   "execution_count": 15,
   "metadata": {},
   "outputs": [],
   "source": [
    "for k, l in pattern_boundaries.items():\n",
    "    i = 0\n",
    "    while i < len(l) - 1:\n",
    "        if l[i + 1][0] - l[i][1] < 7:\n",
    "            l[i] = (l[i][0], l[i + 1][1])\n",
    "            del l[i + 1]\n",
    "        else:\n",
    "            i += 1\n",
    "    pattern_boundaries[k] = l\n"
   ]
  },
  {
   "attachments": {},
   "cell_type": "markdown",
   "metadata": {},
   "source": [
    "## models"
   ]
  },
  {
   "attachments": {},
   "cell_type": "markdown",
   "metadata": {},
   "source": [
    "### bornrule"
   ]
  },
  {
   "cell_type": "code",
   "execution_count": 16,
   "metadata": {},
   "outputs": [],
   "source": [
    "from sklearn.feature_extraction.text import TfidfVectorizer\n",
    "from sklearn.model_selection import train_test_split\n",
    "from bornrule import BornClassifier"
   ]
  },
  {
   "cell_type": "code",
   "execution_count": 17,
   "metadata": {},
   "outputs": [],
   "source": [
    "vect = TfidfVectorizer()\n",
    "tfidf_mx = vect.fit_transform(X).toarray()\n",
    "words = vect.get_feature_names_out()"
   ]
  },
  {
   "cell_type": "code",
   "execution_count": 18,
   "metadata": {},
   "outputs": [],
   "source": [
    "W = words.shape[0]"
   ]
  },
  {
   "cell_type": "code",
   "execution_count": 19,
   "metadata": {},
   "outputs": [],
   "source": [
    "X_train, X_test, y_train, y_test = train_test_split(\n",
    "    tfidf_mx,\n",
    "    y,\n",
    "    test_size=0.2,\n",
    "    random_state=42,\n",
    "    stratify=y,\n",
    ")"
   ]
  },
  {
   "cell_type": "code",
   "execution_count": 20,
   "metadata": {},
   "outputs": [],
   "source": [
    "amplitude = 0.5 #amplitude\n",
    "balance = 1 #balance\n",
    "entropy = 1 #entropy"
   ]
  },
  {
   "cell_type": "code",
   "execution_count": 21,
   "metadata": {},
   "outputs": [
    {
     "data": {
      "text/html": [
       "<style>#sk-container-id-1 {color: black;background-color: white;}#sk-container-id-1 pre{padding: 0;}#sk-container-id-1 div.sk-toggleable {background-color: white;}#sk-container-id-1 label.sk-toggleable__label {cursor: pointer;display: block;width: 100%;margin-bottom: 0;padding: 0.3em;box-sizing: border-box;text-align: center;}#sk-container-id-1 label.sk-toggleable__label-arrow:before {content: \"▸\";float: left;margin-right: 0.25em;color: #696969;}#sk-container-id-1 label.sk-toggleable__label-arrow:hover:before {color: black;}#sk-container-id-1 div.sk-estimator:hover label.sk-toggleable__label-arrow:before {color: black;}#sk-container-id-1 div.sk-toggleable__content {max-height: 0;max-width: 0;overflow: hidden;text-align: left;background-color: #f0f8ff;}#sk-container-id-1 div.sk-toggleable__content pre {margin: 0.2em;color: black;border-radius: 0.25em;background-color: #f0f8ff;}#sk-container-id-1 input.sk-toggleable__control:checked~div.sk-toggleable__content {max-height: 200px;max-width: 100%;overflow: auto;}#sk-container-id-1 input.sk-toggleable__control:checked~label.sk-toggleable__label-arrow:before {content: \"▾\";}#sk-container-id-1 div.sk-estimator input.sk-toggleable__control:checked~label.sk-toggleable__label {background-color: #d4ebff;}#sk-container-id-1 div.sk-label input.sk-toggleable__control:checked~label.sk-toggleable__label {background-color: #d4ebff;}#sk-container-id-1 input.sk-hidden--visually {border: 0;clip: rect(1px 1px 1px 1px);clip: rect(1px, 1px, 1px, 1px);height: 1px;margin: -1px;overflow: hidden;padding: 0;position: absolute;width: 1px;}#sk-container-id-1 div.sk-estimator {font-family: monospace;background-color: #f0f8ff;border: 1px dotted black;border-radius: 0.25em;box-sizing: border-box;margin-bottom: 0.5em;}#sk-container-id-1 div.sk-estimator:hover {background-color: #d4ebff;}#sk-container-id-1 div.sk-parallel-item::after {content: \"\";width: 100%;border-bottom: 1px solid gray;flex-grow: 1;}#sk-container-id-1 div.sk-label:hover label.sk-toggleable__label {background-color: #d4ebff;}#sk-container-id-1 div.sk-serial::before {content: \"\";position: absolute;border-left: 1px solid gray;box-sizing: border-box;top: 0;bottom: 0;left: 50%;z-index: 0;}#sk-container-id-1 div.sk-serial {display: flex;flex-direction: column;align-items: center;background-color: white;padding-right: 0.2em;padding-left: 0.2em;position: relative;}#sk-container-id-1 div.sk-item {position: relative;z-index: 1;}#sk-container-id-1 div.sk-parallel {display: flex;align-items: stretch;justify-content: center;background-color: white;position: relative;}#sk-container-id-1 div.sk-item::before, #sk-container-id-1 div.sk-parallel-item::before {content: \"\";position: absolute;border-left: 1px solid gray;box-sizing: border-box;top: 0;bottom: 0;left: 50%;z-index: -1;}#sk-container-id-1 div.sk-parallel-item {display: flex;flex-direction: column;z-index: 1;position: relative;background-color: white;}#sk-container-id-1 div.sk-parallel-item:first-child::after {align-self: flex-end;width: 50%;}#sk-container-id-1 div.sk-parallel-item:last-child::after {align-self: flex-start;width: 50%;}#sk-container-id-1 div.sk-parallel-item:only-child::after {width: 0;}#sk-container-id-1 div.sk-dashed-wrapped {border: 1px dashed gray;margin: 0 0.4em 0.5em 0.4em;box-sizing: border-box;padding-bottom: 0.4em;background-color: white;}#sk-container-id-1 div.sk-label label {font-family: monospace;font-weight: bold;display: inline-block;line-height: 1.2em;}#sk-container-id-1 div.sk-label-container {text-align: center;}#sk-container-id-1 div.sk-container {/* jupyter's `normalize.less` sets `[hidden] { display: none; }` but bootstrap.min.css set `[hidden] { display: none !important; }` so we also need the `!important` here to be able to override the default hidden behavior on the sphinx rendered scikit-learn.org. See: https://github.com/scikit-learn/scikit-learn/issues/21755 */display: inline-block !important;position: relative;}#sk-container-id-1 div.sk-text-repr-fallback {display: none;}</style><div id=\"sk-container-id-1\" class=\"sk-top-container\"><div class=\"sk-text-repr-fallback\"><pre>BornClassifier(b=1, h=1)</pre><b>In a Jupyter environment, please rerun this cell to show the HTML representation or trust the notebook. <br />On GitHub, the HTML representation is unable to render, please try loading this page with nbviewer.org.</b></div><div class=\"sk-container\" hidden><div class=\"sk-item\"><div class=\"sk-estimator sk-toggleable\"><input class=\"sk-toggleable__control sk-hidden--visually\" id=\"sk-estimator-id-1\" type=\"checkbox\" checked><label for=\"sk-estimator-id-1\" class=\"sk-toggleable__label sk-toggleable__label-arrow\">BornClassifier</label><div class=\"sk-toggleable__content\"><pre>BornClassifier(b=1, h=1)</pre></div></div></div></div></div>"
      ],
      "text/plain": [
       "BornClassifier(b=1, h=1)"
      ]
     },
     "execution_count": 21,
     "metadata": {},
     "output_type": "execute_result"
    }
   ],
   "source": [
    "born = BornClassifier(a=amplitude, b=balance, h=entropy)\n",
    "born.fit(X=X_train, y=y_train)"
   ]
  },
  {
   "cell_type": "code",
   "execution_count": 22,
   "metadata": {},
   "outputs": [
    {
     "name": "stdout",
     "output_type": "stream",
     "text": [
      "F1: 0.78\n",
      "Precision: 0.66\n",
      "Recall: 0.95\n"
     ]
    }
   ],
   "source": [
    "y_hat = born.predict(X_test)\n",
    "metrics(y_hat, y_test)"
   ]
  },
  {
   "cell_type": "code",
   "execution_count": 23,
   "metadata": {},
   "outputs": [
    {
     "data": {
      "text/plain": [
       "array([0, 1])"
      ]
     },
     "execution_count": 23,
     "metadata": {},
     "output_type": "execute_result"
    }
   ],
   "source": [
    "born.classes_"
   ]
  },
  {
   "cell_type": "code",
   "execution_count": 24,
   "metadata": {},
   "outputs": [],
   "source": [
    "weights = born.explain()[:,1]\n",
    "scores = sorted(list(zip(words, weights)), key = lambda x : x[-1], reverse=True)\n",
    "kwscores = defaultdict(float, scores)"
   ]
  },
  {
   "attachments": {},
   "cell_type": "markdown",
   "metadata": {},
   "source": [
    "let's see locally"
   ]
  },
  {
   "cell_type": "code",
   "execution_count": 25,
   "metadata": {},
   "outputs": [],
   "source": [
    "yellow_born = vect.transform(df_val.pp_text).toarray()"
   ]
  },
  {
   "cell_type": "code",
   "execution_count": 26,
   "metadata": {},
   "outputs": [
    {
     "name": "stderr",
     "output_type": "stream",
     "text": [
      "161it [00:04, 35.34it/s]\n"
     ]
    }
   ],
   "source": [
    "born_tokens, born_scores, born_idx = list(), list(), list()\n",
    "for idx, v in tqdm(enumerate(yellow_born)):\n",
    "    sample = v.reshape((1, W))\n",
    "    weights = born.explain(sample)[:, 1]\n",
    "    scores = sorted(list(zip(words, weights)), key=lambda x: x[-1], reverse=True)\n",
    "    kwscores = defaultdict(float, scores)\n",
    "\n",
    "    tokens = df_val.loc[idx, \"pp_text\"].split()\n",
    "    scores = np.array([kwscores[w] for w in tokens])\n",
    "\n",
    "    born_tokens.append(tokens)\n",
    "    born_scores.append(scores)\n",
    "    born_idx.append(df_val.loc[idx].excel_idx)"
   ]
  },
  {
   "cell_type": "code",
   "execution_count": 27,
   "metadata": {},
   "outputs": [
    {
     "name": "stderr",
     "output_type": "stream",
     "text": [
      "C:\\Users\\martin.ranieri\\AppData\\Local\\Temp\\ipykernel_10088\\2425028137.py:15: VisibleDeprecationWarning: Creating an ndarray from ragged nested sequences (which is a list-or-tuple of lists-or-tuples-or ndarrays with different lengths or shapes) is deprecated. If you meant to do this, you must specify 'dtype=object' when creating the ndarray.\n",
      "  return np.array([rescale(a, method) for a in A])\n"
     ]
    }
   ],
   "source": [
    "born_scores = md_rescale(born_scores, \"prob\")"
   ]
  },
  {
   "cell_type": "code",
   "execution_count": 28,
   "metadata": {},
   "outputs": [],
   "source": [
    "# plot_vdr(born_tokens, born_scores)"
   ]
  },
  {
   "attachments": {},
   "cell_type": "markdown",
   "metadata": {},
   "source": [
    "### RoBERTa"
   ]
  },
  {
   "cell_type": "code",
   "execution_count": 29,
   "metadata": {},
   "outputs": [
    {
     "data": {
      "text/plain": [
       "'NVIDIA GeForce GTX 1050'"
      ]
     },
     "execution_count": 29,
     "metadata": {},
     "output_type": "execute_result"
    }
   ],
   "source": [
    "import torch\n",
    "torch.cuda.get_device_name(0)"
   ]
  },
  {
   "cell_type": "code",
   "execution_count": 30,
   "metadata": {},
   "outputs": [],
   "source": [
    "from transformers import (\n",
    "    Trainer,\n",
    "    TrainingArguments,\n",
    "    AutoTokenizer,\n",
    "    DataCollatorWithPadding,\n",
    "    AutoModelForSequenceClassification,\n",
    ")\n",
    "from datasets import load_dataset\n",
    "import datasets"
   ]
  },
  {
   "cell_type": "code",
   "execution_count": 31,
   "metadata": {
    "id": "ZlGSklPYIsOz"
   },
   "outputs": [],
   "source": [
    "tokenizer_hf = AutoTokenizer.from_pretrained(\"ShreyaR/finetuned-roberta-depression\")\n",
    "model = AutoModelForSequenceClassification.from_pretrained(\"ranieri-unimi/test-trainer\")"
   ]
  },
  {
   "cell_type": "code",
   "execution_count": 32,
   "metadata": {},
   "outputs": [
    {
     "name": "stderr",
     "output_type": "stream",
     "text": [
      "161it [00:56,  2.83it/s]\n"
     ]
    }
   ],
   "source": [
    "rob_scores, rob_tokens, rob_idx= list(), list(), list()\n",
    "for idx, text in tqdm(df_val.raw_text.items()):\n",
    "    input_ids = tokenizer_hf.encode(text, return_tensors=\"pt\", padding=True, truncation=True)\n",
    "    outputs = model(\n",
    "        input_ids,\n",
    "        output_attentions=True,\n",
    "        # attention_mask=attention_mask,\n",
    "    )\n",
    "    attention_weights = outputs[-1]\n",
    "    attention_norms = attention_weights[-1][0, :, :, :].norm(dim=0)\n",
    "    scores = attention_norms[0, 1:-1].cpu().detach().numpy()\n",
    "    tokens = [tokenizer_hf.decode(e).lower().strip() for e in input_ids[0, 1:-1]]\n",
    "\n",
    "    rob_scores.append(scores)\n",
    "    rob_tokens.append(tokens)\n",
    "    rob_idx.append(df_val.loc[idx].excel_idx)"
   ]
  },
  {
   "cell_type": "code",
   "execution_count": 33,
   "metadata": {},
   "outputs": [
    {
     "name": "stderr",
     "output_type": "stream",
     "text": [
      "C:\\Users\\martin.ranieri\\AppData\\Local\\Temp\\ipykernel_10088\\2425028137.py:15: VisibleDeprecationWarning: Creating an ndarray from ragged nested sequences (which is a list-or-tuple of lists-or-tuples-or ndarrays with different lengths or shapes) is deprecated. If you meant to do this, you must specify 'dtype=object' when creating the ndarray.\n",
      "  return np.array([rescale(a, method) for a in A])\n"
     ]
    }
   ],
   "source": [
    "rob_scores = md_rescale(rob_scores, \"std\")\n",
    "rob_scores = md_rescale(rob_scores, \"softmax\")\n",
    "rob_scores = md_rescale(rob_scores, \"softmax\")\n",
    "rob_scores = md_rescale(rob_scores, \"softmax\")\n",
    "# very aggressive"
   ]
  },
  {
   "cell_type": "code",
   "execution_count": 34,
   "metadata": {},
   "outputs": [],
   "source": [
    "# plot_vdr(rob_tokens, rob_scores)"
   ]
  },
  {
   "attachments": {},
   "cell_type": "markdown",
   "metadata": {},
   "source": [
    "### spike"
   ]
  },
  {
   "attachments": {},
   "cell_type": "markdown",
   "metadata": {},
   "source": [
    "moving average"
   ]
  },
  {
   "cell_type": "code",
   "execution_count": 140,
   "metadata": {},
   "outputs": [],
   "source": [
    "N = 5\n",
    "rolling_weights = np.ones(N) / N  # uniform\n",
    "rolling_weights = np.array([1, 3, 6, 3, 1]) / 14\n"
   ]
  },
  {
   "cell_type": "code",
   "execution_count": 118,
   "metadata": {},
   "outputs": [
    {
     "data": {
      "text/plain": [
       "<AxesSubplot: >"
      ]
     },
     "execution_count": 118,
     "metadata": {},
     "output_type": "execute_result"
    },
    {
     "data": {
      "image/png": "[encoded data removed]",
      "text/plain": [
       "<Figure size 640x480 with 1 Axes>"
      ]
     },
     "metadata": {},
     "output_type": "display_data"
    }
   ],
   "source": [
    "# sns.lineplot(raw_scores)\n",
    "# sns.lineplot(smooth_scores)"
   ]
  },
  {
   "cell_type": "code",
   "execution_count": 141,
   "metadata": {},
   "outputs": [
    {
     "data": {
      "text/plain": [
       "0.5527950310559007"
      ]
     },
     "execution_count": 141,
     "metadata": {},
     "output_type": "execute_result"
    }
   ],
   "source": [
    "born_matches = defaultdict(lambda : False)\n",
    "\n",
    "for raw_scores, tokens, excel_idx in zip(born_scores, born_tokens, born_idx):\n",
    "    smooth_scores = np.convolve(raw_scores, rolling_weights, mode=\"same\")\n",
    "    eigen_word = tokens[smooth_scores.argmax()]\n",
    "    text = df_yellow.set_index(\"excel_idx\").loc[excel_idx, \"text\"]\n",
    "    eigen_idx = text.find(eigen_word)\n",
    "\n",
    "    has_matched = False\n",
    "    for start, end in pattern_boundaries[excel_idx]:\n",
    "        if start < eigen_idx < end:\n",
    "            born_matches[excel_idx] = True\n",
    "            continue\n",
    "        \n",
    "sum(born_matches.values()) / len(born_idx)  "
   ]
  },
  {
   "cell_type": "code",
   "execution_count": 142,
   "metadata": {},
   "outputs": [
    {
     "data": {
      "text/plain": [
       "0.34782608695652173"
      ]
     },
     "execution_count": 142,
     "metadata": {},
     "output_type": "execute_result"
    }
   ],
   "source": [
    "rob_matches = defaultdict(lambda : False)\n",
    "\n",
    "for raw_scores, tokens, excel_idx in zip(rob_scores, rob_tokens, rob_idx):\n",
    "    smooth_scores = np.convolve(raw_scores, rolling_weights, mode=\"same\")\n",
    "    eigen_word = tokens[smooth_scores.argmax()]\n",
    "    text = df_yellow.set_index(\"excel_idx\").loc[excel_idx, \"text\"]\n",
    "    eigen_idx = text.find(eigen_word)\n",
    "\n",
    "    has_matched = False\n",
    "    for start, end in pattern_boundaries[excel_idx]:\n",
    "        if start < eigen_idx < end:\n",
    "            rob_matches[excel_idx] = True\n",
    "            continue\n",
    "        \n",
    "sum(rob_matches.values()) / len(rob_idx)"
   ]
  },
  {
   "attachments": {},
   "cell_type": "markdown",
   "metadata": {},
   "source": [
    "meanshift"
   ]
  },
  {
   "cell_type": "code",
   "execution_count": null,
   "metadata": {},
   "outputs": [],
   "source": []
  }
 ],
 "metadata": {
  "kernelspec": {
   "display_name": "venv",
   "language": "python",
   "name": "python3"
  },
  "language_info": {
   "codemirror_mode": {
    "name": "ipython",
    "version": 3
   },
   "file_extension": ".py",
   "mimetype": "text/x-python",
   "name": "python",
   "nbconvert_exporter": "python",
   "pygments_lexer": "ipython3",
   "version": "3.10.9"
  },
  "orig_nbformat": 4,
  "vscode": {
   "interpreter": {
    "hash": "3a03f457ba8100ed956a9dead337cf895f8e146c4ebc145127222e1f06f191e5"
   }
  }
 },
 "nbformat": 4,
 "nbformat_minor": 2
}
