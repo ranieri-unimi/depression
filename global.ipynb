{
 "cells": [
  {
   "cell_type": "code",
   "execution_count": 1,
   "metadata": {},
   "outputs": [],
   "source": [
    "from io import StringIO\n",
    "from tqdm import tqdm\n",
    "from pathlib import Path\n",
    "\n",
    "import numpy as np\n",
    "import pandas as pd\n",
    "from scipy import stats\n",
    "\n",
    "import seaborn as sns"
   ]
  },
  {
   "cell_type": "code",
   "execution_count": 2,
   "metadata": {},
   "outputs": [],
   "source": [
    "import torch\n",
    "from torch import nn\n",
    "from torch.optim import AdamW\n",
    "from torch.utils.data import Dataset, DataLoader, random_split\n",
    "\n",
    "torch.set_default_dtype(torch.float64)\n",
    "# torch.manual_seed(42)\n",
    "device = \"cpu\""
   ]
  },
  {
   "cell_type": "code",
   "execution_count": 3,
   "metadata": {},
   "outputs": [],
   "source": [
    "from erisk import metrics"
   ]
  },
  {
   "cell_type": "code",
   "execution_count": 4,
   "metadata": {},
   "outputs": [],
   "source": [
    "# from google.colab import drive\n",
    "# drive.mount('/content/drive')"
   ]
  },
  {
   "cell_type": "code",
   "execution_count": 5,
   "metadata": {},
   "outputs": [],
   "source": [
    "# !pip install --upgrade pandas transformers -q"
   ]
  },
  {
   "cell_type": "code",
   "execution_count": 6,
   "metadata": {},
   "outputs": [],
   "source": [
    "# !unzip datasets.zip"
   ]
  },
  {
   "cell_type": "markdown",
   "metadata": {},
   "source": [
    "### model"
   ]
  },
  {
   "cell_type": "code",
   "execution_count": 7,
   "metadata": {},
   "outputs": [],
   "source": [
    "class MyReg(nn.Module):\n",
    "    def __init__(self, input_size):\n",
    "        super().__init__()\n",
    "        self.layers = nn.Sequential(\n",
    "            nn.Linear(input_size, 1),\n",
    "            nn.ReLU(),\n",
    "            # nn.LogSoftmax(),\n",
    "        )\n",
    "\n",
    "    def forward(self, x):\n",
    "        return self.layers(x)\n"
   ]
  },
  {
   "cell_type": "code",
   "execution_count": 8,
   "metadata": {},
   "outputs": [],
   "source": [
    "class EarlyStopping:\n",
    "    def __init__(self, tolerance=5, min_delta=.001, max_beta=.1):\n",
    "\n",
    "        self.tolerance = tolerance\n",
    "        self.min_delta = min_delta\n",
    "        self.max_beta = max_beta\n",
    "\n",
    "        self.counter = 0\n",
    "        self.early_stop = False\n",
    "\n",
    "    def __call__(self, val_losses, train_loss=None):\n",
    "\n",
    "        if len(val_losses) < 2:\n",
    "            return\n",
    "\n",
    "        curr, prev = val_losses[-1], val_losses[-2]\n",
    "        is_delta = (\n",
    "            (prev - curr) < self.min_delta\n",
    "        )\n",
    "        is_beta = (\n",
    "            (curr - train_loss) > self.max_beta\n",
    "        )\n",
    "\n",
    "        if is_beta or is_delta:\n",
    "            self.counter += 1\n",
    "\n",
    "        if self.counter >= self.tolerance:\n",
    "            self.early_stop = True\n"
   ]
  },
  {
   "cell_type": "code",
   "execution_count": 9,
   "metadata": {},
   "outputs": [],
   "source": [
    "class MyTrainer:\n",
    "    def __init__(self, dataset, input_size, batch_size=32) -> None:\n",
    "        self.train_losses = list()\n",
    "        self.val_losses = list()\n",
    "        self.batch_size = batch_size\n",
    "        self.load_data(dataset)\n",
    "\n",
    "        self.model = MyReg(input_size=input_size)\n",
    "        # self.lossf = nn.CrossEntropyLoss()\n",
    "        self.lossf = nn.L1Loss()\n",
    "        self.optif = AdamW(\n",
    "            self.model.parameters(),\n",
    "            lr=1e-3,\n",
    "        )\n",
    "        # self.optif = torch.optim.SGD(\n",
    "        #     self.model.parameters(),\n",
    "        #     lr=1e-3,\n",
    "        #     momentum=0.9,\n",
    "        # )\n",
    "\n",
    "    def load_data(self, dataset):\n",
    "        train_dt, val_dt, test_dt = random_split(dataset, [0.6, 0.2, 0.2])\n",
    "        self._train_dl = DataLoader(\n",
    "            train_dt,\n",
    "            batch_size=self.batch_size,\n",
    "            shuffle=True,\n",
    "        )\n",
    "\n",
    "        self._val_dl = DataLoader(val_dt, shuffle=True)\n",
    "        self._test_dl = DataLoader(test_dt, shuffle=True)\n",
    "\n",
    "    def _train_one(self):\n",
    "        epoch_loss = 0.0\n",
    "        for _, data in enumerate(self._train_dl):\n",
    "            inputs, targets = data\n",
    "            outputs = self.model(inputs)\n",
    "\n",
    "            self.optif.zero_grad()\n",
    "            batch_loss = self.lossf(outputs[:, 0], targets)\n",
    "            batch_loss.backward()\n",
    "            self.optif.step()\n",
    "\n",
    "            epoch_loss += batch_loss.item()\n",
    "        return epoch_loss / len(self._train_dl)\n",
    "\n",
    "    def _val_one(self):\n",
    "        epoch_loss = 0.0\n",
    "        for _, data in enumerate(self._val_dl):\n",
    "            inputs, target = data\n",
    "            outputs = self.model(inputs)\n",
    "\n",
    "            loss = self.lossf(outputs[:, 0], target)\n",
    "            epoch_loss += loss.item()\n",
    "        return epoch_loss / len(self._val_dl)\n",
    "\n",
    "    def fit(self, epochs=1, early_stopping=None):\n",
    "        for epoch in range(epochs):\n",
    "            t_loss = self._train_one()\n",
    "            self.train_losses.append(t_loss)\n",
    "\n",
    "            self.model.eval()\n",
    "\n",
    "            v_loss = self._val_one()\n",
    "            self.val_losses.append(v_loss)\n",
    "            print(f\"validation loss {v_loss:.3f} at epoch {epoch}\")\n",
    "\n",
    "            # early stopping\n",
    "            if early_stopping is not None:\n",
    "                early_stopping(self.val_losses, t_loss)\n",
    "                if early_stopping.early_stop:\n",
    "                    print(f\"early stopping...\")\n",
    "                    break\n",
    "\n",
    "    def gasp(self):\n",
    "        return [(self.model(inputs).item(), target.item()) for inputs, target in self._test_dl]"
   ]
  },
  {
   "attachments": {},
   "cell_type": "markdown",
   "metadata": {},
   "source": [
    "### data"
   ]
  },
  {
   "cell_type": "markdown",
   "metadata": {},
   "source": [
    "Loading and mergin dataset"
   ]
  },
  {
   "cell_type": "code",
   "execution_count": 10,
   "metadata": {},
   "outputs": [],
   "source": [
    "data_text = \"\"\n",
    "\n",
    "for filename in sorted([\"ds\", \"ts_hs\", \"ts_ht\"]):\n",
    "    with open(\n",
    "        Path(\"datasets\", \"task_0\", f\"{filename}.tsv\"), \"rt\", encoding=\"utf8\"\n",
    "    ) as f:\n",
    "        data_text += f.read()\n",
    "\n",
    "df = pd.read_csv(StringIO(data_text), sep=\"\\t\")\n",
    "df = df.drop_duplicates().reset_index(names=\"old_idx\").reset_index(names=\"new_idx\")\n"
   ]
  },
  {
   "cell_type": "code",
   "execution_count": 11,
   "metadata": {},
   "outputs": [],
   "source": [
    "df.label = df.label.astype(int)"
   ]
  },
  {
   "attachments": {},
   "cell_type": "markdown",
   "metadata": {},
   "source": [
    "### lex"
   ]
  },
  {
   "cell_type": "code",
   "execution_count": 12,
   "metadata": {},
   "outputs": [],
   "source": [
    "import liwc\n",
    "to_liwc, categories = liwc.load_token_parser('dic/LIWC2007_English080730.dic')\n",
    "K = len(categories)\n",
    "\n",
    "kat_lookup = dict(zip(categories, range(K)))"
   ]
  },
  {
   "cell_type": "code",
   "execution_count": 13,
   "metadata": {},
   "outputs": [],
   "source": [
    "class LexDataset(Dataset):\n",
    "    def __init__(self, df, x_col=\"pp_text\", y_col=\"label\"):\n",
    "        self.df = df\n",
    "        self.x_col = x_col\n",
    "        self.y_col = y_col\n",
    "\n",
    "    def __len__(self):\n",
    "        return len(self.df)\n",
    "\n",
    "    def __getitem__(self, idx):\n",
    "        counter = {k: 0 for k in categories}\n",
    "        for word in self.df.loc[idx, self.x_col].split():\n",
    "            for k in list(to_liwc(word)):\n",
    "                counter[k] += 1\n",
    "        X = (\n",
    "            np.array([counter[k] for k in categories]) / sum(counter.values())\n",
    "            if sum(counter.values())\n",
    "            else np.zeros(K)\n",
    "        )\n",
    "        # y = np.zeros(2)\n",
    "        # y[self.df.loc[idx, self.y_col]] = 1\n",
    "        y = self.df.loc[idx, self.y_col]\n",
    "\n",
    "        return X, y\n",
    "\n",
    "    def __iter__(self):\n",
    "        self.a = 0\n",
    "        return self\n",
    "\n",
    "    def __next__(self):\n",
    "        if self.a < len(self):\n",
    "            value = self[self.a]\n",
    "            self.a += 1\n",
    "            return value\n",
    "        else:\n",
    "            raise StopIteration\n"
   ]
  },
  {
   "cell_type": "code",
   "execution_count": 14,
   "metadata": {},
   "outputs": [],
   "source": [
    "ds_lex = LexDataset(df)"
   ]
  },
  {
   "cell_type": "code",
   "execution_count": 15,
   "metadata": {},
   "outputs": [],
   "source": [
    "X_lex, y_lex = zip(*ds_lex)"
   ]
  },
  {
   "cell_type": "code",
   "execution_count": 16,
   "metadata": {},
   "outputs": [
    {
     "name": "stdout",
     "output_type": "stream",
     "text": [
      "validation loss 0.473 at epoch 0\n",
      "validation loss 0.468 at epoch 1\n",
      "validation loss 0.463 at epoch 2\n",
      "validation loss 0.458 at epoch 3\n",
      "validation loss 0.453 at epoch 4\n",
      "validation loss 0.448 at epoch 5\n",
      "validation loss 0.443 at epoch 6\n",
      "validation loss 0.438 at epoch 7\n",
      "validation loss 0.433 at epoch 8\n",
      "validation loss 0.428 at epoch 9\n",
      "validation loss 0.424 at epoch 10\n",
      "validation loss 0.419 at epoch 11\n",
      "validation loss 0.415 at epoch 12\n",
      "validation loss 0.412 at epoch 13\n",
      "validation loss 0.408 at epoch 14\n",
      "validation loss 0.406 at epoch 15\n",
      "validation loss 0.403 at epoch 16\n",
      "validation loss 0.401 at epoch 17\n",
      "validation loss 0.399 at epoch 18\n",
      "validation loss 0.397 at epoch 19\n",
      "validation loss 0.396 at epoch 20\n",
      "validation loss 0.394 at epoch 21\n",
      "validation loss 0.393 at epoch 22\n",
      "validation loss 0.392 at epoch 23\n",
      "validation loss 0.391 at epoch 24\n",
      "validation loss 0.390 at epoch 25\n",
      "validation loss 0.389 at epoch 26\n",
      "validation loss 0.388 at epoch 27\n",
      "validation loss 0.387 at epoch 28\n",
      "validation loss 0.386 at epoch 29\n",
      "validation loss 0.385 at epoch 30\n",
      "validation loss 0.385 at epoch 31\n",
      "validation loss 0.384 at epoch 32\n",
      "validation loss 0.383 at epoch 33\n",
      "validation loss 0.383 at epoch 34\n",
      "validation loss 0.382 at epoch 35\n",
      "validation loss 0.382 at epoch 36\n",
      "validation loss 0.381 at epoch 37\n",
      "validation loss 0.380 at epoch 38\n",
      "validation loss 0.380 at epoch 39\n",
      "validation loss 0.380 at epoch 40\n",
      "validation loss 0.379 at epoch 41\n",
      "validation loss 0.379 at epoch 42\n",
      "validation loss 0.378 at epoch 43\n",
      "validation loss 0.378 at epoch 44\n",
      "validation loss 0.377 at epoch 45\n",
      "validation loss 0.377 at epoch 46\n",
      "validation loss 0.377 at epoch 47\n",
      "validation loss 0.377 at epoch 48\n",
      "validation loss 0.376 at epoch 49\n",
      "validation loss 0.376 at epoch 50\n",
      "validation loss 0.376 at epoch 51\n",
      "validation loss 0.376 at epoch 52\n",
      "validation loss 0.375 at epoch 53\n",
      "validation loss 0.375 at epoch 54\n",
      "validation loss 0.375 at epoch 55\n",
      "validation loss 0.375 at epoch 56\n",
      "validation loss 0.375 at epoch 57\n",
      "validation loss 0.374 at epoch 58\n",
      "validation loss 0.374 at epoch 59\n",
      "validation loss 0.374 at epoch 60\n",
      "validation loss 0.374 at epoch 61\n",
      "validation loss 0.374 at epoch 62\n",
      "validation loss 0.374 at epoch 63\n",
      "validation loss 0.374 at epoch 64\n",
      "validation loss 0.373 at epoch 65\n",
      "validation loss 0.373 at epoch 66\n",
      "validation loss 0.373 at epoch 67\n",
      "validation loss 0.373 at epoch 68\n",
      "validation loss 0.373 at epoch 69\n",
      "validation loss 0.373 at epoch 70\n",
      "validation loss 0.373 at epoch 71\n",
      "validation loss 0.373 at epoch 72\n",
      "validation loss 0.373 at epoch 73\n",
      "validation loss 0.373 at epoch 74\n",
      "validation loss 0.373 at epoch 75\n",
      "validation loss 0.372 at epoch 76\n",
      "validation loss 0.372 at epoch 77\n",
      "validation loss 0.372 at epoch 78\n",
      "validation loss 0.372 at epoch 79\n",
      "validation loss 0.372 at epoch 80\n",
      "validation loss 0.372 at epoch 81\n",
      "validation loss 0.372 at epoch 82\n",
      "validation loss 0.372 at epoch 83\n",
      "validation loss 0.372 at epoch 84\n",
      "validation loss 0.372 at epoch 85\n",
      "validation loss 0.372 at epoch 86\n",
      "validation loss 0.372 at epoch 87\n",
      "validation loss 0.372 at epoch 88\n",
      "validation loss 0.372 at epoch 89\n",
      "validation loss 0.372 at epoch 90\n",
      "validation loss 0.372 at epoch 91\n",
      "validation loss 0.371 at epoch 92\n",
      "validation loss 0.372 at epoch 93\n",
      "early stopping...\n"
     ]
    }
   ],
   "source": [
    "trainer = MyTrainer(ds_lex, 64)\n",
    "trainer.fit(\n",
    "    epochs=100,\n",
    "    early_stopping=EarlyStopping(\n",
    "        tolerance=4,\n",
    "        min_delta=0.0,\n",
    "        max_beta=0.1,\n",
    "    ),\n",
    ")\n"
   ]
  },
  {
   "cell_type": "code",
   "execution_count": 17,
   "metadata": {},
   "outputs": [
    {
     "data": {
      "text/plain": [
       "<AxesSubplot: >"
      ]
     },
     "execution_count": 17,
     "metadata": {},
     "output_type": "execute_result"
    },
    {
     "data": {
      "image/png": "[encoded data removed]",
      "text/plain": [
       "<Figure size 640x480 with 1 Axes>"
      ]
     },
     "metadata": {},
     "output_type": "display_data"
    }
   ],
   "source": [
    "sns.lineplot(trainer.train_losses)\n",
    "sns.lineplot(trainer.val_losses)"
   ]
  },
  {
   "cell_type": "code",
   "execution_count": 18,
   "metadata": {},
   "outputs": [],
   "source": [
    "xi_weights = trainer.model.layers[0].weight[0].detach().numpy()"
   ]
  },
  {
   "cell_type": "code",
   "execution_count": 19,
   "metadata": {},
   "outputs": [],
   "source": [
    "y_hat, y_true = list(zip(*trainer.gasp()))\n",
    "y_hat = [1 if e>0.5 else 0 for e in y_hat]"
   ]
  },
  {
   "cell_type": "code",
   "execution_count": 20,
   "metadata": {},
   "outputs": [
    {
     "name": "stdout",
     "output_type": "stream",
     "text": [
      "F1: 0.72\n",
      "Precision: 0.71\n",
      "Recall: 0.73\n",
      "Accuracy: 0.72\n"
     ]
    }
   ],
   "source": [
    "metrics(y_hat, y_true)"
   ]
  },
  {
   "attachments": {},
   "cell_type": "markdown",
   "metadata": {},
   "source": [
    "### born lex"
   ]
  },
  {
   "cell_type": "code",
   "execution_count": 21,
   "metadata": {},
   "outputs": [],
   "source": [
    "from sklearn.model_selection import train_test_split\n",
    "from bornrule import BornClassifier\n",
    "from collections import defaultdict"
   ]
  },
  {
   "cell_type": "code",
   "execution_count": 22,
   "metadata": {},
   "outputs": [],
   "source": [
    "X_train, X_test, y_train, y_test = train_test_split(\n",
    "    X_lex,\n",
    "    y_lex,\n",
    "    test_size=0.2,\n",
    "    random_state=42,\n",
    "    stratify=y_lex,\n",
    ")"
   ]
  },
  {
   "cell_type": "code",
   "execution_count": 23,
   "metadata": {},
   "outputs": [],
   "source": [
    "amplitude = 0.5 #amplitude\n",
    "balance = 1 #balance\n",
    "entropy = 1 #entropy"
   ]
  },
  {
   "cell_type": "code",
   "execution_count": 24,
   "metadata": {},
   "outputs": [
    {
     "data": {
      "text/html": [
       "<style>#sk-container-id-1 {color: black;background-color: white;}#sk-container-id-1 pre{padding: 0;}#sk-container-id-1 div.sk-toggleable {background-color: white;}#sk-container-id-1 label.sk-toggleable__label {cursor: pointer;display: block;width: 100%;margin-bottom: 0;padding: 0.3em;box-sizing: border-box;text-align: center;}#sk-container-id-1 label.sk-toggleable__label-arrow:before {content: \"▸\";float: left;margin-right: 0.25em;color: #696969;}#sk-container-id-1 label.sk-toggleable__label-arrow:hover:before {color: black;}#sk-container-id-1 div.sk-estimator:hover label.sk-toggleable__label-arrow:before {color: black;}#sk-container-id-1 div.sk-toggleable__content {max-height: 0;max-width: 0;overflow: hidden;text-align: left;background-color: #f0f8ff;}#sk-container-id-1 div.sk-toggleable__content pre {margin: 0.2em;color: black;border-radius: 0.25em;background-color: #f0f8ff;}#sk-container-id-1 input.sk-toggleable__control:checked~div.sk-toggleable__content {max-height: 200px;max-width: 100%;overflow: auto;}#sk-container-id-1 input.sk-toggleable__control:checked~label.sk-toggleable__label-arrow:before {content: \"▾\";}#sk-container-id-1 div.sk-estimator input.sk-toggleable__control:checked~label.sk-toggleable__label {background-color: #d4ebff;}#sk-container-id-1 div.sk-label input.sk-toggleable__control:checked~label.sk-toggleable__label {background-color: #d4ebff;}#sk-container-id-1 input.sk-hidden--visually {border: 0;clip: rect(1px 1px 1px 1px);clip: rect(1px, 1px, 1px, 1px);height: 1px;margin: -1px;overflow: hidden;padding: 0;position: absolute;width: 1px;}#sk-container-id-1 div.sk-estimator {font-family: monospace;background-color: #f0f8ff;border: 1px dotted black;border-radius: 0.25em;box-sizing: border-box;margin-bottom: 0.5em;}#sk-container-id-1 div.sk-estimator:hover {background-color: #d4ebff;}#sk-container-id-1 div.sk-parallel-item::after {content: \"\";width: 100%;border-bottom: 1px solid gray;flex-grow: 1;}#sk-container-id-1 div.sk-label:hover label.sk-toggleable__label {background-color: #d4ebff;}#sk-container-id-1 div.sk-serial::before {content: \"\";position: absolute;border-left: 1px solid gray;box-sizing: border-box;top: 0;bottom: 0;left: 50%;z-index: 0;}#sk-container-id-1 div.sk-serial {display: flex;flex-direction: column;align-items: center;background-color: white;padding-right: 0.2em;padding-left: 0.2em;position: relative;}#sk-container-id-1 div.sk-item {position: relative;z-index: 1;}#sk-container-id-1 div.sk-parallel {display: flex;align-items: stretch;justify-content: center;background-color: white;position: relative;}#sk-container-id-1 div.sk-item::before, #sk-container-id-1 div.sk-parallel-item::before {content: \"\";position: absolute;border-left: 1px solid gray;box-sizing: border-box;top: 0;bottom: 0;left: 50%;z-index: -1;}#sk-container-id-1 div.sk-parallel-item {display: flex;flex-direction: column;z-index: 1;position: relative;background-color: white;}#sk-container-id-1 div.sk-parallel-item:first-child::after {align-self: flex-end;width: 50%;}#sk-container-id-1 div.sk-parallel-item:last-child::after {align-self: flex-start;width: 50%;}#sk-container-id-1 div.sk-parallel-item:only-child::after {width: 0;}#sk-container-id-1 div.sk-dashed-wrapped {border: 1px dashed gray;margin: 0 0.4em 0.5em 0.4em;box-sizing: border-box;padding-bottom: 0.4em;background-color: white;}#sk-container-id-1 div.sk-label label {font-family: monospace;font-weight: bold;display: inline-block;line-height: 1.2em;}#sk-container-id-1 div.sk-label-container {text-align: center;}#sk-container-id-1 div.sk-container {/* jupyter's `normalize.less` sets `[hidden] { display: none; }` but bootstrap.min.css set `[hidden] { display: none !important; }` so we also need the `!important` here to be able to override the default hidden behavior on the sphinx rendered scikit-learn.org. See: https://github.com/scikit-learn/scikit-learn/issues/21755 */display: inline-block !important;position: relative;}#sk-container-id-1 div.sk-text-repr-fallback {display: none;}</style><div id=\"sk-container-id-1\" class=\"sk-top-container\"><div class=\"sk-text-repr-fallback\"><pre>BornClassifier(b=1, h=1)</pre><b>In a Jupyter environment, please rerun this cell to show the HTML representation or trust the notebook. <br />On GitHub, the HTML representation is unable to render, please try loading this page with nbviewer.org.</b></div><div class=\"sk-container\" hidden><div class=\"sk-item\"><div class=\"sk-estimator sk-toggleable\"><input class=\"sk-toggleable__control sk-hidden--visually\" id=\"sk-estimator-id-1\" type=\"checkbox\" checked><label for=\"sk-estimator-id-1\" class=\"sk-toggleable__label sk-toggleable__label-arrow\">BornClassifier</label><div class=\"sk-toggleable__content\"><pre>BornClassifier(b=1, h=1)</pre></div></div></div></div></div>"
      ],
      "text/plain": [
       "BornClassifier(b=1, h=1)"
      ]
     },
     "execution_count": 24,
     "metadata": {},
     "output_type": "execute_result"
    }
   ],
   "source": [
    "born = BornClassifier(a=amplitude, b=balance, h=entropy)\n",
    "born.fit(X=X_train, y=y_train)"
   ]
  },
  {
   "cell_type": "code",
   "execution_count": 25,
   "metadata": {},
   "outputs": [
    {
     "name": "stdout",
     "output_type": "stream",
     "text": [
      "F1: 0.63\n",
      "Precision: 0.65\n",
      "Recall: 0.62\n",
      "Accuracy: 0.65\n"
     ]
    }
   ],
   "source": [
    "y_hat = born.predict(X_test)\n",
    "metrics(y_hat, y_test)"
   ]
  },
  {
   "cell_type": "code",
   "execution_count": 26,
   "metadata": {},
   "outputs": [
    {
     "data": {
      "text/plain": [
       "array([0, 1])"
      ]
     },
     "execution_count": 26,
     "metadata": {},
     "output_type": "execute_result"
    }
   ],
   "source": [
    "born.classes_"
   ]
  },
  {
   "cell_type": "code",
   "execution_count": 27,
   "metadata": {},
   "outputs": [],
   "source": [
    "weights = born.explain()[:,1]\n",
    "scores = sorted(list(zip(categories, weights)), key = lambda x : x[-1], reverse=True)\n",
    "kwscores = defaultdict(float, scores)"
   ]
  },
  {
   "cell_type": "code",
   "execution_count": 28,
   "metadata": {},
   "outputs": [
    {
     "data": {
      "text/plain": [
       "[('i', 0.012541492481592243),\n",
       " ('work', 0.011617812255721238),\n",
       " ('assent', 0.007522012568021944),\n",
       " ('sad', 0.007463258446255146),\n",
       " ('health', 0.006889467324162289),\n",
       " ('leisure', 0.0057710508860062786),\n",
       " ('ppron', 0.00560310530425819),\n",
       " ('money', 0.005426777055746855),\n",
       " ('posemo', 0.005207359259779314),\n",
       " ('negemo', 0.005121484877754135),\n",
       " ('feel', 0.004527219872281263),\n",
       " ('space', 0.003819259460512905),\n",
       " ('anx', 0.0036360851519248033),\n",
       " ('inhib', 0.0032653448548397124),\n",
       " ('achieve', 0.0031674857972681988)]"
      ]
     },
     "execution_count": 28,
     "metadata": {},
     "output_type": "execute_result"
    }
   ],
   "source": [
    "scores[:15]"
   ]
  },
  {
   "cell_type": "markdown",
   "metadata": {},
   "source": [
    "### RoBERTa"
   ]
  },
  {
   "cell_type": "code",
   "execution_count": 29,
   "metadata": {},
   "outputs": [],
   "source": [
    "y = torch.tensor(df.label).to(device)"
   ]
  },
  {
   "cell_type": "code",
   "execution_count": 30,
   "metadata": {},
   "outputs": [],
   "source": [
    "BATCH_SIZE = 64"
   ]
  },
  {
   "cell_type": "code",
   "execution_count": 31,
   "metadata": {},
   "outputs": [],
   "source": [
    "from transformers import (\n",
    "    AutoTokenizer,\n",
    "    AutoModelForSequenceClassification,\n",
    ")"
   ]
  },
  {
   "cell_type": "code",
   "execution_count": 32,
   "metadata": {},
   "outputs": [],
   "source": [
    "tokenizer_hf = AutoTokenizer.from_pretrained(\"ShreyaR/finetuned-roberta-depression\")\n",
    "model = AutoModelForSequenceClassification.from_pretrained(\"ranieri-unimi/test-trainer\").to(device)"
   ]
  },
  {
   "cell_type": "code",
   "execution_count": 33,
   "metadata": {},
   "outputs": [],
   "source": [
    "TH = tokenizer_hf.batch_encode_plus(\n",
    "    df.pp_text.to_list(),\n",
    "    return_tensors=\"pt\",\n",
    "    padding=True,\n",
    "    truncation=True,\n",
    ").to(device)\n"
   ]
  },
  {
   "cell_type": "code",
   "execution_count": 34,
   "metadata": {},
   "outputs": [],
   "source": [
    "# X = None\n",
    "# with torch.no_grad():\n",
    "#     for i in tqdm(range(0, len(y), BATCH_SIZE)):\n",
    "#         input_ids = TH.input_ids[i : i + BATCH_SIZE, :]\n",
    "#         result = model(input_ids, output_hidden_states=True)\n",
    "#         cls_batch = result.hidden_states[-1][:, 0, :]\n",
    "#         try:\n",
    "#             X = torch.cat((X, cls_batch))\n",
    "#         except:\n",
    "#             X = cls_batch\n",
    "# torch.save(X, \"stash/X.cls.pt\")"
   ]
  },
  {
   "cell_type": "code",
   "execution_count": 35,
   "metadata": {},
   "outputs": [],
   "source": [
    "X = torch.load(\"stash/X.cls.pt\").to(device)\n",
    "X = [e for e in X]"
   ]
  },
  {
   "cell_type": "code",
   "execution_count": 36,
   "metadata": {},
   "outputs": [],
   "source": [
    "class RobDataset(Dataset):\n",
    "    def __init__(self, X_list, y_list):\n",
    "        self.X_list = X_list\n",
    "        self.y_list = y_list\n",
    "\n",
    "    def __len__(self):\n",
    "        return len(self.y_list)\n",
    "\n",
    "    def __getitem__(self, idx):\n",
    "        return self.X_list[idx], self.y_list[idx]"
   ]
  },
  {
   "cell_type": "code",
   "execution_count": 37,
   "metadata": {},
   "outputs": [],
   "source": [
    "ds_rob = RobDataset(X, y)"
   ]
  },
  {
   "cell_type": "code",
   "execution_count": 38,
   "metadata": {},
   "outputs": [
    {
     "name": "stdout",
     "output_type": "stream",
     "text": [
      "validation loss 0.477 at epoch 0\n",
      "validation loss 0.457 at epoch 1\n",
      "validation loss 0.429 at epoch 2\n",
      "validation loss 0.419 at epoch 3\n",
      "validation loss 0.414 at epoch 4\n",
      "validation loss 0.400 at epoch 5\n",
      "validation loss 0.398 at epoch 6\n",
      "validation loss 0.412 at epoch 7\n",
      "validation loss 0.403 at epoch 8\n",
      "validation loss 0.419 at epoch 9\n",
      "validation loss 0.399 at epoch 10\n",
      "validation loss 0.392 at epoch 11\n",
      "validation loss 0.390 at epoch 12\n",
      "validation loss 0.411 at epoch 13\n",
      "validation loss 0.392 at epoch 14\n",
      "validation loss 0.403 at epoch 15\n",
      "validation loss 0.396 at epoch 16\n",
      "validation loss 0.390 at epoch 17\n",
      "validation loss 0.426 at epoch 18\n",
      "validation loss 0.388 at epoch 19\n",
      "validation loss 0.390 at epoch 20\n",
      "validation loss 0.405 at epoch 21\n",
      "validation loss 0.387 at epoch 22\n",
      "validation loss 0.391 at epoch 23\n",
      "early stopping...\n"
     ]
    }
   ],
   "source": [
    "trainer = MyTrainer(ds_rob, 768)\n",
    "trainer.fit(\n",
    "    epochs=100,\n",
    "    early_stopping=EarlyStopping(\n",
    "        tolerance=8,\n",
    "        min_delta=0.0,\n",
    "        max_beta=0.12,\n",
    "    ),\n",
    ")"
   ]
  },
  {
   "cell_type": "code",
   "execution_count": 39,
   "metadata": {},
   "outputs": [
    {
     "data": {
      "text/plain": [
       "<AxesSubplot: >"
      ]
     },
     "execution_count": 39,
     "metadata": {},
     "output_type": "execute_result"
    },
    {
     "data": {
      "image/png": "[encoded data removed]",
      "text/plain": [
       "<Figure size 640x480 with 1 Axes>"
      ]
     },
     "metadata": {},
     "output_type": "display_data"
    }
   ],
   "source": [
    "sns.lineplot(trainer.train_losses)\n",
    "sns.lineplot(trainer.val_losses)"
   ]
  },
  {
   "cell_type": "code",
   "execution_count": 40,
   "metadata": {},
   "outputs": [],
   "source": [
    "wo_weights = trainer.model.layers[0].weight[0].detach().numpy()"
   ]
  },
  {
   "cell_type": "code",
   "execution_count": 41,
   "metadata": {},
   "outputs": [],
   "source": [
    "y_hat, y_true = list(zip(*trainer.gasp()))\n",
    "y_hat = [1 if e>0.5 else 0 for e in y_hat]"
   ]
  },
  {
   "cell_type": "code",
   "execution_count": 42,
   "metadata": {},
   "outputs": [
    {
     "name": "stdout",
     "output_type": "stream",
     "text": [
      "F1: 0.51\n",
      "Precision: 0.81\n",
      "Recall: 0.38\n",
      "Accuracy: 0.66\n"
     ]
    }
   ],
   "source": [
    "metrics(y_hat, y_true)"
   ]
  },
  {
   "attachments": {},
   "cell_type": "markdown",
   "metadata": {},
   "source": [
    "### reg match"
   ]
  },
  {
   "cell_type": "code",
   "execution_count": 43,
   "metadata": {},
   "outputs": [],
   "source": [
    "from sklearn.linear_model import ElasticNet, Ridge, LinearRegression"
   ]
  },
  {
   "cell_type": "code",
   "execution_count": 44,
   "metadata": {},
   "outputs": [],
   "source": [
    "y_lex = np.array([ds_lex[i][0] for i in range(len(ds_lex))])\n",
    "x_sem = np.array([ds_rob[i][0].numpy() for i in range(len(ds_rob))])"
   ]
  },
  {
   "cell_type": "code",
   "execution_count": 45,
   "metadata": {},
   "outputs": [
    {
     "name": "stdout",
     "output_type": "stream",
     "text": [
      "[[-3.73287740e-03  1.35999002e-01 -2.91835908e-03 ...  3.28571175e-01\n",
      "  -1.75643968e-02 -1.77180860e-01]\n",
      " [ 1.40839331e-02  1.98991041e-02 -5.33868533e-03 ...  7.77323627e-02\n",
      "   1.48232016e-02 -3.59815514e-02]\n",
      " [ 1.12688929e-02  1.12363939e-02 -6.46624173e-03 ...  6.32734323e-02\n",
      "   1.04695655e-02 -2.47157306e-02]\n",
      " ...\n",
      " [ 5.53938214e-03 -2.58408594e-02  4.48185549e-03 ... -6.87063416e-02\n",
      "   5.38023242e-03  3.57190829e-02]\n",
      " [-5.54531361e-04 -1.43057164e-04  6.00416107e-04 ... -2.27772934e-03\n",
      "  -2.65877164e-04  8.90534845e-04]\n",
      " [ 1.07157045e-04  1.97275698e-04 -1.04539935e-04 ...  4.27690927e-05\n",
      "   3.14536807e-05  1.10099397e-04]]\n"
     ]
    }
   ],
   "source": [
    "ridge_reg = Ridge(alpha=0.05)\n",
    "ridge_reg.fit(x_sem, y_lex)\n",
    "\n",
    "print(ridge_reg.coef_)\n",
    "# print(ridge_reg.intercept_)"
   ]
  },
  {
   "cell_type": "code",
   "execution_count": 46,
   "metadata": {},
   "outputs": [],
   "source": [
    "P = ridge_reg.coef_"
   ]
  },
  {
   "cell_type": "code",
   "execution_count": 47,
   "metadata": {},
   "outputs": [],
   "source": [
    "def rescale(v, method):\n",
    "    a = np.array(v)\n",
    "    match method.lower():\n",
    "        case \"prob\":\n",
    "            a = (a - a.min()) / (a.max() - a.min())\n",
    "        case \"softmax\":\n",
    "            a = np.exp(a) / sum(np.exp(a))\n",
    "        case \"std\":\n",
    "            a = (a - a.mean()) / (a.std())\n",
    "        case \"relu\":\n",
    "            a = np.maximum(0, a)\n",
    "        case _:\n",
    "            print(f'\"{rescale}\" is ignored because is not a supported rescale method')\n",
    "    return a\n",
    "\n",
    "def md_rescale(A, method):\n",
    "    return np.array([rescale(a, method) for a in A])"
   ]
  },
  {
   "cell_type": "code",
   "execution_count": 48,
   "metadata": {},
   "outputs": [],
   "source": [
    "def plot_coeff(M, category):\n",
    "    i = categories.index(category)\n",
    "    ax = sns.heatmap(\n",
    "        (M[i]//1e-11).reshape((32, 24)),\n",
    "        # cmap=sns.color_palette(\"vlag\", as_cmap=True),\n",
    "    )\n",
    "    ax.set(\n",
    "        xticklabels=[],\n",
    "        yticklabels=[],\n",
    "        title=category.upper(),\n",
    "    )\n",
    "    ax.tick_params(bottom=False, left=False)"
   ]
  },
  {
   "cell_type": "code",
   "execution_count": 49,
   "metadata": {},
   "outputs": [],
   "source": [
    "# plot_coeff(md_rescale(P.T, \"relu\").T, \"posemo\")"
   ]
  },
  {
   "cell_type": "code",
   "execution_count": 50,
   "metadata": {},
   "outputs": [],
   "source": [
    "error_term = np.dot(P, wo_weights) - xi_weights"
   ]
  },
  {
   "cell_type": "code",
   "execution_count": 51,
   "metadata": {},
   "outputs": [
    {
     "data": {
      "text/plain": [
       "(64,)"
      ]
     },
     "execution_count": 51,
     "metadata": {},
     "output_type": "execute_result"
    }
   ],
   "source": [
    "np.dot(P, wo_weights).shape"
   ]
  },
  {
   "cell_type": "code",
   "execution_count": 60,
   "metadata": {},
   "outputs": [
    {
     "data": {
      "text/plain": [
       "<AxesSubplot: ylabel='Count'>"
      ]
     },
     "execution_count": 60,
     "metadata": {},
     "output_type": "execute_result"
    },
    {
     "data": {
      "image/png": "[encoded data removed]",
      "text/plain": [
       "<Figure size 640x480 with 1 Axes>"
      ]
     },
     "metadata": {},
     "output_type": "display_data"
    }
   ],
   "source": [
    "sns.histplot(error_term, kde=True)"
   ]
  },
  {
   "cell_type": "code",
   "execution_count": 53,
   "metadata": {},
   "outputs": [],
   "source": [
    "lx_error_term = np.dot(P.T, xi_weights) - wo_weights"
   ]
  },
  {
   "cell_type": "code",
   "execution_count": 54,
   "metadata": {},
   "outputs": [
    {
     "data": {
      "text/plain": [
       "<AxesSubplot: ylabel='Count'>"
      ]
     },
     "execution_count": 54,
     "metadata": {},
     "output_type": "execute_result"
    },
    {
     "data": {
      "image/png": "[encoded data removed]",
      "text/plain": [
       "<Figure size 640x480 with 1 Axes>"
      ]
     },
     "metadata": {},
     "output_type": "display_data"
    }
   ],
   "source": [
    "sns.histplot(lx_error_term, kde=True)"
   ]
  },
  {
   "cell_type": "code",
   "execution_count": 55,
   "metadata": {},
   "outputs": [
    {
     "data": {
      "text/plain": [
       "(ShapiroResult(statistic=0.9825556874275208, pvalue=0.5011416673660278),\n",
       " ShapiroResult(statistic=0.9984548687934875, pvalue=0.7426096200942993))"
      ]
     },
     "execution_count": 55,
     "metadata": {},
     "output_type": "execute_result"
    }
   ],
   "source": [
    "stats.shapiro(error_term), stats.shapiro(lx_error_term)"
   ]
  },
  {
   "cell_type": "code",
   "execution_count": 56,
   "metadata": {},
   "outputs": [
    {
     "data": {
      "text/plain": [
       "Ttest_indResult(statistic=-0.03653531343315709, pvalue=0.970913341186219)"
      ]
     },
     "execution_count": 56,
     "metadata": {},
     "output_type": "execute_result"
    }
   ],
   "source": [
    "stats.ttest_ind(np.dot(P, wo_weights), xi_weights)"
   ]
  },
  {
   "cell_type": "code",
   "execution_count": 57,
   "metadata": {},
   "outputs": [
    {
     "data": {
      "text/plain": [
       "Ttest_indResult(statistic=-0.40008524634614123, pvalue=0.689149435206789)"
      ]
     },
     "execution_count": 57,
     "metadata": {},
     "output_type": "execute_result"
    }
   ],
   "source": [
    "stats.ttest_ind(np.dot(P.T, xi_weights), wo_weights)"
   ]
  }
 ],
 "metadata": {
  "kernelspec": {
   "display_name": "venv",
   "language": "python",
   "name": "python3"
  },
  "language_info": {
   "codemirror_mode": {
    "name": "ipython",
    "version": 3
   },
   "file_extension": ".py",
   "mimetype": "text/x-python",
   "name": "python",
   "nbconvert_exporter": "python",
   "pygments_lexer": "ipython3",
   "version": "3.10.9"
  },
  "orig_nbformat": 4,
  "vscode": {
   "interpreter": {
    "hash": "3a03f457ba8100ed956a9dead337cf895f8e146c4ebc145127222e1f06f191e5"
   }
  }
 },
 "nbformat": 4,
 "nbformat_minor": 2
}
