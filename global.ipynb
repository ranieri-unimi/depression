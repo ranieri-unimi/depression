{
 "cells": [
  {
   "cell_type": "code",
   "execution_count": 1,
   "metadata": {},
   "outputs": [],
   "source": [
    "from collections import Counter, defaultdict\n",
    "import re\n",
    "import json\n",
    "import pickle\n",
    "from io import StringIO\n",
    "from tqdm import tqdm\n",
    "from pathlib import Path\n",
    "\n",
    "import numpy as np\n",
    "import pandas as pd\n",
    "\n",
    "import seaborn as sns\n",
    "from matplotlib import pyplot as plt"
   ]
  },
  {
   "cell_type": "code",
   "execution_count": 2,
   "metadata": {},
   "outputs": [],
   "source": [
    "import torch\n",
    "from torch import nn\n",
    "from torch.optim import AdamW\n",
    "from torch.utils.data import Dataset, DataLoader, random_split\n",
    "\n",
    "# torch.manual_seed(42)\n"
   ]
  },
  {
   "cell_type": "code",
   "execution_count": 3,
   "metadata": {},
   "outputs": [],
   "source": [
    "torch.set_default_dtype(torch.float64)"
   ]
  },
  {
   "attachments": {},
   "cell_type": "markdown",
   "metadata": {},
   "source": [
    "### data"
   ]
  },
  {
   "cell_type": "markdown",
   "metadata": {},
   "source": [
    "Loading and mergin dataset"
   ]
  },
  {
   "cell_type": "code",
   "execution_count": 4,
   "metadata": {},
   "outputs": [],
   "source": [
    "data_text = \"\"\n",
    "\n",
    "for filename in sorted([\"ds\", \"ts_hs\", \"ts_ht\"]):\n",
    "    with open(\n",
    "        Path(\"datasets\", \"task_0\", f\"{filename}.tsv\"), \"rt\", encoding=\"utf8\"\n",
    "    ) as f:\n",
    "        data_text += f.read()\n",
    "\n",
    "df = pd.read_csv(StringIO(data_text), sep=\"\\t\")\n",
    "df = df.drop_duplicates().reset_index(names=\"old_idx\").reset_index(names=\"new_idx\")\n"
   ]
  },
  {
   "cell_type": "code",
   "execution_count": 5,
   "metadata": {},
   "outputs": [],
   "source": [
    "df.label = df.label.astype(int)"
   ]
  },
  {
   "cell_type": "code",
   "execution_count": 6,
   "metadata": {},
   "outputs": [],
   "source": [
    "import liwc\n",
    "to_liwc, categories = liwc.load_token_parser('dic/LIWC2007_English080730.dic')\n",
    "K = len(categories)\n",
    "\n",
    "kat_lookup = dict(zip(categories, range(K)))"
   ]
  },
  {
   "attachments": {},
   "cell_type": "markdown",
   "metadata": {},
   "source": [
    "A custom Dataset class must implement three functions: __init__, __len__, and __getitem__. "
   ]
  },
  {
   "cell_type": "code",
   "execution_count": 7,
   "metadata": {},
   "outputs": [],
   "source": [
    "class MyDataset(Dataset):\n",
    "    def __init__(self, df, x_col=\"pp_text\", y_col = \"label\"):\n",
    "        self.df = df\n",
    "        self.x_col = x_col\n",
    "        self.y_col = y_col\n",
    "\n",
    "    def __len__(self):\n",
    "        return len(self.df)\n",
    "\n",
    "    def __getitem__(self, idx):\n",
    "        counter = {k:0 for k in categories}\n",
    "        for word in self.df.loc[idx, self.x_col].split():\n",
    "            for k in list(to_liwc(word)):\n",
    "                counter[k] += 1\n",
    "        X = np.array([counter[k] for k in categories]) / sum(counter.values()) if sum(counter.values()) else np.zeros(K)\n",
    "        y = self.df.loc[idx, self.y_col]\n",
    "\n",
    "        return X, y"
   ]
  },
  {
   "cell_type": "code",
   "execution_count": 8,
   "metadata": {},
   "outputs": [],
   "source": [
    "ds = MyDataset(df)"
   ]
  },
  {
   "attachments": {},
   "cell_type": "markdown",
   "metadata": {},
   "source": [
    "### model"
   ]
  },
  {
   "cell_type": "code",
   "execution_count": 9,
   "metadata": {},
   "outputs": [],
   "source": [
    "class MyReg(nn.Module):\n",
    "    def __init__(self):\n",
    "        super().__init__()\n",
    "        self.layers = nn.Sequential(\n",
    "            nn.Linear(64,2),\n",
    "            nn.ReLU(),\n",
    "            nn.Linear(2,1),\n",
    "        )\n",
    "\n",
    "    def forward(self, x):\n",
    "        return self.layers(x)"
   ]
  },
  {
   "cell_type": "code",
   "execution_count": 13,
   "metadata": {},
   "outputs": [],
   "source": [
    "class MyTrainer():\n",
    "    def __init__(self, dataset, epochs=25, batch_size=32) -> None:\n",
    "        self.train_losses = list()\n",
    "        self.val_losses = list()\n",
    "        self.epochs = epochs\n",
    "        self.batch_size = batch_size\n",
    "        self.load_data(dataset)\n",
    "\n",
    "        self.model = MyReg()\n",
    "        # self.lossf = nn.CrossEntropyLoss()\n",
    "        self.lossf = nn.L1Loss()\n",
    "        self.optif = AdamW(\n",
    "            self.model.parameters(),\n",
    "            lr=1e-4,\n",
    "        )\n",
    "        # self.optif = torch.optim.SGD(\n",
    "        #     self.model.parameters(),\n",
    "        #     lr=1e-3,\n",
    "        #     momentum=0.9,\n",
    "        # )\n",
    "    \n",
    "    def load_data(self, dataset):\n",
    "        train_dt, val_dt, test_dt = random_split(dataset, [0.6, 0.2, 0.2])\n",
    "        self._train_dl = DataLoader(\n",
    "            train_dt,\n",
    "            batch_size=self.batch_size,\n",
    "            shuffle=True,\n",
    "        )\n",
    "\n",
    "        self._val_dl = DataLoader(val_dt, shuffle=True)\n",
    "        self._test_dl = DataLoader(test_dt, shuffle=True)\n",
    "\n",
    "    def _train_one(self):\n",
    "        epoch_loss = .0\n",
    "        for batch_idx, data in enumerate(self._train_dl):\n",
    "            inputs, targets = data\n",
    "            outputs = self.model(inputs)\n",
    "\n",
    "            self.optif.zero_grad()\n",
    "            batch_loss = self.lossf(outputs[:,0], targets)\n",
    "            batch_loss.backward()\n",
    "            self.optif.step()\n",
    "\n",
    "            epoch_loss += batch_loss.item()\n",
    "        return epoch_loss / len(self._train_dl)\n",
    "\n",
    "\n",
    "    def _val_one(self):\n",
    "        epoch_loss = .0\n",
    "        for i, data in enumerate(self._val_dl):\n",
    "            input, target = data\n",
    "            output = self.model(input)\n",
    "\n",
    "            loss = self.lossf(output[:,0], target)\n",
    "            epoch_loss += loss.item()\n",
    "        return epoch_loss / len(self._val_dl)\n",
    "\n",
    "\n",
    "    def fit(self):\n",
    "        for epoch in tqdm(range(self.epochs)):\n",
    "            loss = self._train_one()\n",
    "            self.train_losses.append(loss)\n",
    "\n",
    "            self.model.eval()\n",
    "\n",
    "            loss = self._val_one()\n",
    "            self.val_losses.append(loss)\n"
   ]
  },
  {
   "cell_type": "code",
   "execution_count": 14,
   "metadata": {},
   "outputs": [
    {
     "name": "stderr",
     "output_type": "stream",
     "text": [
      "100%|██████████| 25/25 [02:32<00:00,  6.11s/it]\n"
     ]
    }
   ],
   "source": [
    "trainer = MyTrainer(ds)\n",
    "trainer.fit()"
   ]
  },
  {
   "cell_type": "code",
   "execution_count": 15,
   "metadata": {},
   "outputs": [
    {
     "data": {
      "text/plain": [
       "<AxesSubplot: >"
      ]
     },
     "execution_count": 15,
     "metadata": {},
     "output_type": "execute_result"
    },
    {
     "data": {
      "image/png": "[encoded data removed]",
      "text/plain": [
       "<Figure size 640x480 with 1 Axes>"
      ]
     },
     "metadata": {},
     "output_type": "display_data"
    }
   ],
   "source": [
    "sns.lineplot(trainer.train_losses)\n",
    "sns.lineplot(trainer.val_losses)"
   ]
  },
  {
   "cell_type": "code",
   "execution_count": null,
   "metadata": {},
   "outputs": [],
   "source": []
  }
 ],
 "metadata": {
  "kernelspec": {
   "display_name": "venv",
   "language": "python",
   "name": "python3"
  },
  "language_info": {
   "codemirror_mode": {
    "name": "ipython",
    "version": 3
   },
   "file_extension": ".py",
   "mimetype": "text/x-python",
   "name": "python",
   "nbconvert_exporter": "python",
   "pygments_lexer": "ipython3",
   "version": "3.10.9"
  },
  "orig_nbformat": 4,
  "vscode": {
   "interpreter": {
    "hash": "3a03f457ba8100ed956a9dead337cf895f8e146c4ebc145127222e1f06f191e5"
   }
  }
 },
 "nbformat": 4,
 "nbformat_minor": 2
}
