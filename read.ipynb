{
 "cells": [
  {
   "cell_type": "code",
   "execution_count": 1,
   "metadata": {},
   "outputs": [],
   "source": [
    "from pathlib import Path\n",
    "import seaborn as sns"
   ]
  },
  {
   "cell_type": "code",
   "execution_count": 36,
   "metadata": {},
   "outputs": [],
   "source": [
    "import xml.etree.ElementTree as ET\n",
    "from tqdm import tqdm\n",
    "import pandas as pd"
   ]
  },
  {
   "cell_type": "code",
   "execution_count": 33,
   "metadata": {},
   "outputs": [],
   "source": [
    "pth = Path(\"downloads\", \"task_1_depression\")\n",
    "dl = list()"
   ]
  },
  {
   "cell_type": "code",
   "execution_count": 34,
   "metadata": {},
   "outputs": [
    {
     "name": "stderr",
     "output_type": "stream",
     "text": [
      "820it [00:02, 293.25it/s]\n",
      "820it [00:09, 90.33it/s]\n",
      "820it [00:09, 90.30it/s]\n",
      "820it [00:10, 77.07it/s]\n",
      "820it [00:09, 89.15it/s]\n",
      "820it [00:09, 90.69it/s]\n",
      "820it [00:08, 92.93it/s]\n",
      "820it [00:08, 92.09it/s]\n",
      "820it [00:08, 94.86it/s]\n",
      "820it [00:10, 76.91it/s]\n",
      "13it [01:26,  6.69s/it]\n"
     ]
    }
   ],
   "source": [
    "for sub_pth in tqdm(pth.iterdir()):\n",
    "    if not sub_pth.is_dir():\n",
    "        continue\n",
    "    for f in tqdm(sub_pth.iterdir()):\n",
    "        if not str(f).endswith(\"xml\"):\n",
    "            continue\n",
    "        tree = ET.parse(f)\n",
    "        root = tree.getroot() \n",
    "\n",
    "        subj_id = root.find(\"ID\").text\n",
    "        for writing in root.findall(\"WRITING\"):\n",
    "            text = writing.find(\"TITLE\").text + writing.find(\"TEXT\").text\n",
    "            date_time = writing.find(\"DATE\").text\n",
    "            dl.append((subj_id, date_time, text))"
   ]
  },
  {
   "cell_type": "code",
   "execution_count": 41,
   "metadata": {},
   "outputs": [],
   "source": [
    "df = pd.DataFrame(dl, columns=[\"user\", \"date_time\", \"text\"])"
   ]
  },
  {
   "cell_type": "code",
   "execution_count": 50,
   "metadata": {},
   "outputs": [],
   "source": [
    "df.date_time = pd.to_datetime(df.date_time)"
   ]
  },
  {
   "cell_type": "code",
   "execution_count": 60,
   "metadata": {},
   "outputs": [],
   "source": [
    "df[\"time_stamp\"] = df.date_time.apply(lambda x : int(x.timestamp()))"
   ]
  },
  {
   "cell_type": "code",
   "execution_count": 67,
   "metadata": {},
   "outputs": [
    {
     "data": {
      "text/plain": [
       "<AxesSubplot: xlabel='user', ylabel='Count'>"
      ]
     },
     "execution_count": 67,
     "metadata": {},
     "output_type": "execute_result"
    },
    {
     "data": {
      "image/png": "[encoded data removed]",
      "text/plain": [
       "<Figure size 640x480 with 1 Axes>"
      ]
     },
     "metadata": {},
     "output_type": "display_data"
    }
   ],
   "source": [
    "sns.histplot(df.user.value_counts(), bins=20)"
   ]
  },
  {
   "cell_type": "code",
   "execution_count": 72,
   "metadata": {},
   "outputs": [],
   "source": [
    "df.to_csv(Path(pth, \"depression_merged.csv\"), index=False)"
   ]
  }
 ],
 "metadata": {
  "kernelspec": {
   "display_name": "venv",
   "language": "python",
   "name": "python3"
  },
  "language_info": {
   "codemirror_mode": {
    "name": "ipython",
    "version": 3
   },
   "file_extension": ".py",
   "mimetype": "text/x-python",
   "name": "python",
   "nbconvert_exporter": "python",
   "pygments_lexer": "ipython3",
   "version": "3.10.2 (tags/v3.10.2:a58ebcc, Jan 17 2022, 14:12:15) [MSC v.1929 64 bit (AMD64)]"
  },
  "orig_nbformat": 4,
  "vscode": {
   "interpreter": {
    "hash": "3a03f457ba8100ed956a9dead337cf895f8e146c4ebc145127222e1f06f191e5"
   }
  }
 },
 "nbformat": 4,
 "nbformat_minor": 2
}
