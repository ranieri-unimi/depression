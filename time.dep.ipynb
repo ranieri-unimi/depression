{
 "cells": [
  {
   "cell_type": "code",
   "execution_count": 78,
   "metadata": {},
   "outputs": [],
   "source": [
    "import pandas as pd\n",
    "import numpy as np\n",
    "import re\n",
    "from tqdm import tqdm"
   ]
  },
  {
   "cell_type": "code",
   "execution_count": 79,
   "metadata": {},
   "outputs": [],
   "source": [
    "df = pd.read_csv(\"datasets/task_1_depression/depression_merged.csv\")"
   ]
  },
  {
   "cell_type": "code",
   "execution_count": 80,
   "metadata": {},
   "outputs": [],
   "source": [
    "def tokenize(text):\n",
    "    for match in re.finditer(r'\\w+', text, re.UNICODE):\n",
    "        yield match.group(0).lower()"
   ]
  },
  {
   "cell_type": "code",
   "execution_count": 81,
   "metadata": {},
   "outputs": [],
   "source": [
    "import liwc\n",
    "liwc_parse, categories = liwc.load_token_parser('dic/LIWC.dic')\n",
    "K = len(categories)\n",
    "kat_lookup = dict(zip(categories, range(K)))"
   ]
  },
  {
   "cell_type": "code",
   "execution_count": 82,
   "metadata": {},
   "outputs": [],
   "source": [
    "subjects = sorted(df.user.drop_duplicates().to_list())\n",
    "S = len(subjects)\n",
    "subj_lookup =  dict(zip(subjects, range(S)))\n",
    "subj_ts = dict()"
   ]
  },
  {
   "cell_type": "code",
   "execution_count": 83,
   "metadata": {},
   "outputs": [
    {
     "name": "stderr",
     "output_type": "stream",
     "text": [
      "100%|██████████| 820/820 [01:27<00:00,  9.40it/s]\n"
     ]
    }
   ],
   "source": [
    "# generate time serie \n",
    "for subj, dfi in tqdm(df.groupby(\"user\")):\n",
    "    subj_ts[subj] = np.zeros((len(dfi),K))\n",
    "    for n, text in enumerate(dfi.sort_values(\"date_time\").text):\n",
    "        for t in tokenize(text):\n",
    "            for m in liwc_parse(t):\n",
    "                k = kat_lookup[m]\n",
    "                subj_ts[subj][n,k] += 1"
   ]
  },
  {
   "cell_type": "code",
   "execution_count": 84,
   "metadata": {},
   "outputs": [],
   "source": [
    "# filter out time series too small\n",
    "subj_ts = {k:v for k, v in subj_ts.items() if v.shape[0] > 20}"
   ]
  },
  {
   "cell_type": "code",
   "execution_count": 85,
   "metadata": {},
   "outputs": [],
   "source": [
    "from sklearn.preprocessing import normalize"
   ]
  },
  {
   "cell_type": "code",
   "execution_count": 86,
   "metadata": {},
   "outputs": [],
   "source": [
    "for k, v in subj_ts.items():\n",
    "    subj_ts[k] = normalize(v, axis=1)"
   ]
  },
  {
   "cell_type": "code",
   "execution_count": null,
   "metadata": {},
   "outputs": [],
   "source": [
    "\"\"\"\n",
    "classificatore sui amplificatoti nella trasformata di fourier (fft fast fourier)\n",
    "\n",
    "\"\"\""
   ]
  }
 ],
 "metadata": {
  "kernelspec": {
   "display_name": "venv",
   "language": "python",
   "name": "python3"
  },
  "language_info": {
   "codemirror_mode": {
    "name": "ipython",
    "version": 3
   },
   "file_extension": ".py",
   "mimetype": "text/x-python",
   "name": "python",
   "nbconvert_exporter": "python",
   "pygments_lexer": "ipython3",
   "version": "3.10.2"
  },
  "orig_nbformat": 4,
  "vscode": {
   "interpreter": {
    "hash": "3a03f457ba8100ed956a9dead337cf895f8e146c4ebc145127222e1f06f191e5"
   }
  }
 },
 "nbformat": 4,
 "nbformat_minor": 2
}
