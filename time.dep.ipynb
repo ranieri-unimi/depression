{
 "cells": [
  {
   "cell_type": "code",
   "execution_count": null,
   "metadata": {},
   "outputs": [],
   "source": [
    "import pandas as pd\n",
    "import numpy as np\n",
    "import re\n",
    "from tqdm import tqdm\n",
    "from matplotlib import pyplot as plt\n",
    "import seaborn as sns"
   ]
  },
  {
   "cell_type": "code",
   "execution_count": null,
   "metadata": {},
   "outputs": [],
   "source": [
    "y_lookup = dict(\n",
    "    pd.read_csv(\n",
    "        \"datasets/task_1_depression/risk-golden-truth-test.txt\",\n",
    "        sep=\"\\t\",\n",
    "        header=None,\n",
    "    ).to_records(index=False)\n",
    ")\n"
   ]
  },
  {
   "cell_type": "code",
   "execution_count": null,
   "metadata": {},
   "outputs": [],
   "source": [
    "df = pd.read_csv(\"datasets/task_1_depression/depression_merged.csv\")"
   ]
  },
  {
   "cell_type": "code",
   "execution_count": null,
   "metadata": {},
   "outputs": [],
   "source": [
    "def to_liwc_token(text):\n",
    "    for match in re.finditer(r'\\w+', text, re.UNICODE):\n",
    "        yield match.group(0).lower()"
   ]
  },
  {
   "cell_type": "code",
   "execution_count": null,
   "metadata": {},
   "outputs": [],
   "source": [
    "import liwc\n",
    "liwc_parse, categories = liwc.load_token_parser('dic/LIWC2007_English080730.dic')\n",
    "K = len(categories)\n",
    "kat_lookup = dict(zip(categories, range(K)))"
   ]
  },
  {
   "cell_type": "code",
   "execution_count": null,
   "metadata": {},
   "outputs": [],
   "source": [
    "y_lookup = dict(\n",
    "    pd.read_csv(\n",
    "        \"datasets/task_1_depression/risk-golden-truth-test.txt\",\n",
    "        sep=\"\\t\",\n",
    "        header=None,\n",
    "    ).to_records(index=False)\n",
    ")\n"
   ]
  },
  {
   "cell_type": "code",
   "execution_count": null,
   "metadata": {},
   "outputs": [],
   "source": [
    "subjects = sorted(df.user.drop_duplicates().to_list())\n",
    "S = len(subjects)\n",
    "subj_lookup =  dict(zip(subjects, range(S)))\n",
    "subj_ts = dict()"
   ]
  },
  {
   "cell_type": "code",
   "execution_count": null,
   "metadata": {},
   "outputs": [],
   "source": [
    "# generate time serie\n",
    "for subj, dfi in tqdm(df.groupby(\"user\")):\n",
    "    subj_ts[subj] = list()\n",
    "\n",
    "    for n, text in enumerate(dfi.sort_values(\"date_time\").text):\n",
    "        kat_freq = np.zeros(K)\n",
    "        for t in to_liwc_token(text):\n",
    "            for m in liwc_parse(t):\n",
    "                k = kat_lookup[m]\n",
    "                kat_freq[k] += 1\n",
    "\n",
    "        if not kat_freq.sum():\n",
    "            continue\n",
    "\n",
    "        kat_freq /= kat_freq.sum()\n",
    "        subj_ts[subj].append(kat_freq)\n",
    "    subj_ts[subj] = np.array(subj_ts[subj])\n"
   ]
  },
  {
   "cell_type": "code",
   "execution_count": null,
   "metadata": {},
   "outputs": [],
   "source": [
    "MIN_LENGTH = 20\n",
    "subj_ts = {k:v for k, v in subj_ts.items() if not v.shape[0] < MIN_LENGTH}\n",
    "subj_sign = { k:np.sign(v) for k,v in subj_ts.items()}\n",
    "y_lookup = {k:v  for k,v in y_lookup.items() if k in subj_ts}"
   ]
  },
  {
   "cell_type": "markdown",
   "metadata": {},
   "source": [
    "\"\"\"\n",
    "    classificatore sui amplificatoti nella trasformata di fourier (fft fast fourier)\n",
    "\"\"\""
   ]
  },
  {
   "cell_type": "code",
   "execution_count": null,
   "metadata": {},
   "outputs": [],
   "source": [
    "from statsmodels.tsa.stattools import adfuller\n",
    "from statsmodels.tsa.seasonal import seasonal_decompose\n",
    "from  statsmodels.tsa.arima.model import ARIMA"
   ]
  },
  {
   "cell_type": "code",
   "execution_count": null,
   "metadata": {},
   "outputs": [],
   "source": [
    "from erisk import erde_evaluation\n",
    "\n",
    "def score(out_file):\n",
    "    erde_evaluation(\"datasets/task_1_depression/risk-golden-truth-test.txt\", out_file)"
   ]
  },
  {
   "cell_type": "code",
   "execution_count": null,
   "metadata": {},
   "outputs": [],
   "source": [
    "k = categories.index(\"family\")\n",
    "s = \"subject3414\"\n"
   ]
  },
  {
   "cell_type": "code",
   "execution_count": null,
   "metadata": {},
   "outputs": [],
   "source": [
    "def ma(x, w):\n",
    "    return np.convolve(x, np.ones(w), 'valid') / w"
   ]
  },
  {
   "cell_type": "code",
   "execution_count": null,
   "metadata": {},
   "outputs": [],
   "source": [
    "ts = subj_sign[s][:50,k]\n",
    "ts = ma(ts, 3)\n",
    "ts = subj_ts[s][:50,k]"
   ]
  },
  {
   "cell_type": "code",
   "execution_count": null,
   "metadata": {},
   "outputs": [],
   "source": [
    "model = ARIMA(ts, order=(1,3,2))\n",
    "results = model.fit()\n",
    "plt.plot(ts)\n",
    "plt.plot(results.fittedvalues[1:], color='red', )"
   ]
  },
  {
   "attachments": {},
   "cell_type": "markdown",
   "metadata": {},
   "source": [
    "bazuka"
   ]
  },
  {
   "cell_type": "code",
   "execution_count": null,
   "metadata": {},
   "outputs": [],
   "source": [
    "X, y = np.zeros((len(y_lookup), 64, 2000)), []\n",
    "for i, subj in enumerate(y_lookup):\n",
    "    y.append(y_lookup[subj])\n",
    "    X_unpad = subj_ts[subj]\n",
    "\n",
    "    ts_len = X_unpad.T.shape[-1]\n",
    "    X[i, :, :ts_len] = X_unpad.T\n",
    "\n",
    "y = np.array(y)\n"
   ]
  },
  {
   "cell_type": "code",
   "execution_count": null,
   "metadata": {},
   "outputs": [],
   "source": [
    "from sklearn.model_selection import train_test_split\n",
    "X_train, X_test, y_train, y_test = train_test_split(\n",
    "    X, y, test_size=0.3, random_state=42)"
   ]
  },
  {
   "cell_type": "code",
   "execution_count": null,
   "metadata": {},
   "outputs": [],
   "source": [
    "aaa_path = r\"MLSTM_FCN/data/aaa/\"\n",
    "np.save(aaa_path + 'X_train.npy', X_train)\n",
    "np.save(aaa_path + 'y_train.npy', y_train)\n",
    "np.save(aaa_path + 'X_test.npy', X_test)\n",
    "np.save(aaa_path + 'y_test.npy', y_test)"
   ]
  },
  {
   "cell_type": "code",
   "execution_count": null,
   "metadata": {},
   "outputs": [],
   "source": [
    "from MLSTM_FCN import aaa_model"
   ]
  },
  {
   "cell_type": "code",
   "execution_count": null,
   "metadata": {},
   "outputs": [],
   "source": []
  }
 ],
 "metadata": {
  "kernelspec": {
   "display_name": "venv",
   "language": "python",
   "name": "python3"
  },
  "language_info": {
   "codemirror_mode": {
    "name": "ipython",
    "version": 3
   },
   "file_extension": ".py",
   "mimetype": "text/x-python",
   "name": "python",
   "nbconvert_exporter": "python",
   "pygments_lexer": "ipython3",
   "version": "3.10.2 (tags/v3.10.2:a58ebcc, Jan 17 2022, 14:12:15) [MSC v.1929 64 bit (AMD64)]"
  },
  "orig_nbformat": 4,
  "vscode": {
   "interpreter": {
    "hash": "3a03f457ba8100ed956a9dead337cf895f8e146c4ebc145127222e1f06f191e5"
   }
  }
 },
 "nbformat": 4,
 "nbformat_minor": 2
}
