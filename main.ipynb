{
 "cells": [
  {
   "cell_type": "code",
   "execution_count": null,
   "metadata": {},
   "outputs": [],
   "source": [
    "import pandas as pd\n",
    "from pathlib import Path\n",
    "from io import StringIO\n",
    "import json"
   ]
  },
  {
   "cell_type": "markdown",
   "metadata": {},
   "source": [
    "# col cuore in gola"
   ]
  },
  {
   "cell_type": "markdown",
   "metadata": {},
   "source": [
    "dataset"
   ]
  },
  {
   "cell_type": "code",
   "execution_count": null,
   "metadata": {},
   "outputs": [],
   "source": [
    "data_text = \"\"\n",
    "\n",
    "for filename in sorted([\"ds\", \"ts_hs\", \"ts_ht\"]):\n",
    "    with open(Path(\"downloads\", \"task_0\", f\"{filename}.tsv\"), \"rt\", encoding=\"utf8\") as f:\n",
    "        data_text += f.read()\n",
    "\n",
    "df = pd.read_csv(StringIO(data_text), sep=\"\\t\")\n",
    "# dup_idx = df.index.difference(df.drop_duplicates().index)\n",
    "# df.loc[dup_idx]\n",
    "df = df.drop_duplicates().reset_index(names=\"old_idx\").reset_index(names=\"new_idx\")"
   ]
  },
  {
   "cell_type": "markdown",
   "metadata": {},
   "source": [
    "train test indexes"
   ]
  },
  {
   "cell_type": "code",
   "execution_count": null,
   "metadata": {},
   "outputs": [],
   "source": [
    "lookup = df.set_index(\"old_idx\")[\"new_idx\"]\n",
    "pth = Path(\"downloads\", \"task_0\", \"train_test_splitting.json\")\n",
    "idx = json.load(open(pth, \"rt\"))\n",
    "idx = {k: [lookup[i] for i in lst if i in lookup] for k, lst in idx.items()}\n"
   ]
  },
  {
   "cell_type": "code",
   "execution_count": null,
   "metadata": {},
   "outputs": [],
   "source": [
    "x, y = df[\"pp_text\"], df[\"label\"]\n",
    "x_train, x_test = x.loc[idx[\"train\"]], x.loc[idx[\"test\"]]\n",
    "y_train, y_test = y.loc[idx[\"train\"]], y.loc[idx[\"test\"]]"
   ]
  },
  {
   "cell_type": "markdown",
   "metadata": {},
   "source": [
    "spans"
   ]
  },
  {
   "cell_type": "code",
   "execution_count": null,
   "metadata": {},
   "outputs": [],
   "source": []
  }
 ],
 "metadata": {
  "kernelspec": {
   "display_name": "Python 3.10.2 ('venv': venv)",
   "language": "python",
   "name": "python3"
  },
  "language_info": {
   "codemirror_mode": {
    "name": "ipython",
    "version": 3
   },
   "file_extension": ".py",
   "mimetype": "text/x-python",
   "name": "python",
   "nbconvert_exporter": "python",
   "pygments_lexer": "ipython3",
   "version": "3.10.2"
  },
  "orig_nbformat": 4,
  "vscode": {
   "interpreter": {
    "hash": "3a03f457ba8100ed956a9dead337cf895f8e146c4ebc145127222e1f06f191e5"
   }
  }
 },
 "nbformat": 4,
 "nbformat_minor": 2
}
